{
 "cells": [
  {
   "cell_type": "markdown",
   "id": "fb1909d6-1397-469f-b0b4-d5a421368f4c",
   "metadata": {},
   "source": [
    "# Data collection"
   ]
  },
  {
   "cell_type": "markdown",
   "id": "32f7739f-d790-4440-b98f-853a065d5b52",
   "metadata": {},
   "source": [
    "## API requests"
   ]
  },
  {
   "cell_type": "code",
   "execution_count": null,
   "id": "4d562987-005a-48e3-bd77-6e6d477fc816",
   "metadata": {},
   "outputs": [],
   "source": [
    "import requests\n",
    "\n",
    "def request_data():\n",
    "    url = \"https://jsonplaceholder.typicode.com/posts\"\n",
    "    try:\n",
    "        response = requests.get(url)\n",
    "        response.raise_for_status()\n",
    "        data = response.json()\n",
    "        return data\n",
    "    except requests.exceptions.RequestException as error:\n",
    "        print(f\"Error with API: {error}\")\n",
    "        return None"
   ]
  },
  {
   "cell_type": "code",
   "execution_count": null,
   "id": "a3210d91-c0fd-4e97-9bd8-371d2a3a2d35",
   "metadata": {},
   "outputs": [],
   "source": [
    "data = request_data()\n",
    "if data:\n",
    "    for post in data[:5]: \n",
    "        print(f\"ID: {post['id']}, Title: {post['title']}\")"
   ]
  },
  {
   "cell_type": "markdown",
   "id": "0b5af29c-405b-4623-ac4f-56a9b49a6a08",
   "metadata": {},
   "source": [
    "## Web scraping"
   ]
  },
  {
   "cell_type": "code",
   "execution_count": null,
   "id": "ff3e44ad-c126-4c26-84f9-5aba2bc8b078",
   "metadata": {},
   "outputs": [],
   "source": [
    "import requests\n",
    "from bs4 import BeautifulSoup\n",
    "\n",
    "def run_scraping(url):\n",
    "    try:\n",
    "        response = requests.get(url)\n",
    "        response.raise_for_status() \n",
    "        \n",
    "        soup = BeautifulSoup(response.text, \"html.parser\")\n",
    "        \n",
    "        titles = soup.find_all(\"item\")\n",
    "        # titles = soup.find_all(\"div\", {\"class\": \"evento\"})\n",
    "        \n",
    "        # for i, title in enumerate(titles, start=1):\n",
    "        #     print(f\"{i}. {title.get_text().strip()}\")\n",
    "\n",
    "        return titles, soup\n",
    "    except requests.exceptions.RequestException as erro:\n",
    "        print(f\"Erro ao acessar a página: {erro}\")"
   ]
  },
  {
   "cell_type": "code",
   "execution_count": null,
   "id": "d836b6a6-3f62-43a8-a998-7cba784bcd6d",
   "metadata": {},
   "outputs": [],
   "source": [
    "url = \"https://oficial.unimar.br/eventos/\"\n",
    "run_scraping(url)"
   ]
  },
  {
   "cell_type": "markdown",
   "id": "a6c07a1a-233c-4c37-907f-fdd68945edc4",
   "metadata": {},
   "source": [
    "## Select from database"
   ]
  },
  {
   "cell_type": "code",
   "execution_count": null,
   "id": "263d53a4-6928-4d27-97ef-8716a08be1f1",
   "metadata": {},
   "outputs": [],
   "source": [
    "import sqlite3\n",
    "\n",
    "def run_select(query):\n",
    "    try:\n",
    "        connection = sqlite3.connect(\"database.db\")\n",
    "        cursor = connection.cursor()\n",
    "        \n",
    "        cursor.execute(query)\n",
    "        results = cursor.fetchall()\n",
    "        \n",
    "        connection.close()\n",
    "\n",
    "        return results\n",
    "    except sqlite3.Error as error:\n",
    "        print(f\"Error with database: {error}\")"
   ]
  },
  {
   "cell_type": "code",
   "execution_count": null,
   "id": "d5046211-c561-4c96-8abe-389dd6f613cb",
   "metadata": {},
   "outputs": [],
   "source": [
    "query = \"SELECT * FROM users\"\n",
    "run_select(query)"
   ]
  }
 ],
 "metadata": {
  "kernelspec": {
   "display_name": "Python 3 (ipykernel)",
   "language": "python",
   "name": "python3"
  },
  "language_info": {
   "codemirror_mode": {
    "name": "ipython",
    "version": 3
   },
   "file_extension": ".py",
   "mimetype": "text/x-python",
   "name": "python",
   "nbconvert_exporter": "python",
   "pygments_lexer": "ipython3",
   "version": "3.11.3"
  }
 },
 "nbformat": 4,
 "nbformat_minor": 5
}
